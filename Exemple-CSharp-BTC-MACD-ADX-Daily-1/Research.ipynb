{
 "cells": [
  {
   "cell_type": "markdown",
   "metadata": {},
   "source": [
    "![QuantConnect Logo](https://cdn.quantconnect.com/web/i/icon.png)\n",
    "<hr>"
   ]
  },
  {
   "cell_type": "markdown",
   "metadata": {},
   "source": [
    "#### Initializing environment"
   ]
  },
  {
   "cell_type": "code",
   "execution_count": 1,
   "metadata": {
    "dotnet_interactive": {
     "language": "csharp"
    },
    "polyglot_notebook": {
     "kernelName": "csharp"
    },
    "vscode": {
     "languageId": "polyglot-notebook"
    }
   },
   "outputs": [],
   "source": [
    "// We need to load assemblies at the start in their own cell\n",
    "#load \"../Initialize.csx\"\n",
    "// QuantBook C# Research Environment\n",
    "// For more information see https://www.quantconnect.com/docs/v2/our-platform/research/getting-started\n",
    "#load \"../QuantConnect.csx\""
   ]
  },
  {
   "cell_type": "markdown",
   "metadata": {},
   "source": [
    "#### Loading historical BTC prices in daily resolution"
   ]
  },
  {
   "cell_type": "code",
   "execution_count": 3,
   "metadata": {
    "dotnet_interactive": {
     "language": "csharp"
    },
    "polyglot_notebook": {
     "kernelName": "csharp"
    },
    "vscode": {
     "languageId": "polyglot-notebook"
    }
   },
   "outputs": [],
   "source": [
    "// Import necessary namespaces\n",
    "using QuantConnect;\n",
    "using QuantConnect.Data;\n",
    "using QuantConnect.Data.Market;\n",
    "using QuantConnect.Brokerages;\n",
    "using System;\n",
    "using System.Linq;\n",
    "\n",
    "// Initialize QuantBook\n",
    "var qb = new QuantConnect.Research.QuantBook();\n",
    "\n",
    "// Set account currency and brokerage model\n",
    "qb.SetAccountCurrency(\"USDT\");\n",
    "qb.SetBrokerageModel(BrokerageName.Binance, AccountType.Cash);\n",
    "\n",
    "// Add a crypto subscription\n",
    "var btcUsdt = qb.AddCrypto(\"BTCUSDT\", Resolution.Daily, Market.Binance).Symbol;\n",
    "\n",
    "// Set the date range for historical data\n",
    "var startDate = new DateTime(2013, 04, 07);\n",
    "var endDate = new DateTime(2024, 11, 1);\n",
    "\n",
    "// Request historical data\n",
    "var btcHistory = qb.History<TradeBar>(btcUsdt, startDate, endDate, Resolution.Daily).ToList();\n",
    "\n",
    "// Verify data retrieval\n",
    "Console.WriteLine($\"Number of data points retrieved: {btcHistory.Count}\");\n",
    "foreach (var bar in btcHistory.Take(5))\n",
    "{\n",
    "    Console.WriteLine($\"Date: {bar.EndTime}, Open: {bar.Open}, High: {bar.High}, Low: {bar.Low}, Close: {bar.Close}, Volume: {bar.Volume}\");\n",
    "}\n",
    "foreach (var bar in btcHistory.Skip(btcHistory.Count-5))\n",
    "{\n",
    "    Console.WriteLine($\"Date: {bar.EndTime}, Open: {bar.Open}, High: {bar.High}, Low: {bar.Low}, Close: {bar.Close}, Volume: {bar.Volume}\");\n",
    "}"
   ]
  },
  {
   "cell_type": "markdown",
   "metadata": {},
   "source": [
    "#### Computing Benchmark return\n",
    "\n",
    "We assume an initial investment of 5000$"
   ]
  },
  {
   "cell_type": "code",
   "execution_count": 4,
   "metadata": {
    "dotnet_interactive": {
     "language": "csharp"
    },
    "polyglot_notebook": {
     "kernelName": "csharp"
    },
    "vscode": {
     "languageId": "polyglot-notebook"
    }
   },
   "outputs": [],
   "source": [
    "// Calculer le rendement cumulatif du benchmark\n",
    "decimal initialInvestment = 5000;\n",
    "Console.WriteLine($\"Initial Portfolio Value: 5000$: BTC Close {btcHistory.First().Close}$/BTC\");\n",
    "var cumulativeReturn = new List<(DateTime Time, decimal PortfolioValue)>();\n",
    "decimal runningTotal = initialInvestment;\n",
    "\n",
    "foreach (var bar in btcHistory)\n",
    "{\n",
    "    runningTotal = initialInvestment * (bar.Close / btcHistory.First().Close);\n",
    "    cumulativeReturn.Add((bar.EndTime, runningTotal));\n",
    "}\n",
    "\n",
    "// Afficher quelques rendements\n",
    "foreach (var point in cumulativeReturn.Take(5))\n",
    "{\n",
    "    Console.WriteLine($\"Date: {point.Time}, Portfolio Value: {point.PortfolioValue:C}\");\n",
    "}\n",
    "\n",
    "Console.WriteLine($\"Final Portfolio Value: {cumulativeReturn.Last().Time}: {cumulativeReturn.Last().PortfolioValue:C} BTC Close {btcHistory.Last().Close}$/BTC\");\n"
   ]
  },
  {
   "cell_type": "markdown",
   "metadata": {},
   "source": [
    "#### Identifying peaks for various margins\n",
    "\n",
    "We want to extract local extrema for various margins and select those that yield a target amount of peaks (around 50 peaks for a handful of target yearly trades)"
   ]
  },
  {
   "cell_type": "code",
   "execution_count": 14,
   "metadata": {
    "dotnet_interactive": {
     "language": "csharp"
    },
    "polyglot_notebook": {
     "kernelName": "csharp"
    },
    "vscode": {
     "languageId": "polyglot-notebook"
    }
   },
   "outputs": [],
   "source": [
    "// Generic method to compute peaks from any time series with customizable return fields\n",
    "public List<TResult> GetPeaks<T, TResult>(\n",
    "    List<T> data,\n",
    "    decimal thresholdPercentage,\n",
    "    Func<T, decimal> valueSelector,\n",
    "    Func<T, DateTime> timeSelector,\n",
    "    Func<DateTime, decimal, TResult> resultSelector)\n",
    "{\n",
    "    var peaks = new List<TResult>();\n",
    "    if (data.Count == 0) return peaks;\n",
    "\n",
    "    decimal threshold = thresholdPercentage / 100m;\n",
    "\n",
    "    // Start by looking for a maximum (default behavior)\n",
    "    bool lookingForMax = true;\n",
    "\n",
    "    // Track the last known pivot\n",
    "    int pivotIndex = 0;\n",
    "    decimal pivotValue = valueSelector(data[0]);\n",
    "\n",
    "    for (int i = 1; i < data.Count; i++)\n",
    "    {\n",
    "        var currentValue = valueSelector(data[i]);\n",
    "\n",
    "        if (lookingForMax)\n",
    "        {\n",
    "            // Looking for a peak (local maximum)\n",
    "            if (currentValue > pivotValue)\n",
    "            {\n",
    "                // Update pivot if we are still climbing\n",
    "                pivotIndex = i;\n",
    "                pivotValue = currentValue;\n",
    "            }\n",
    "            else\n",
    "            {\n",
    "                // Calculate the drop from the current pivot\n",
    "                decimal drop = (pivotValue - currentValue) / pivotValue;\n",
    "                if (drop > threshold)\n",
    "                {\n",
    "                    // Significant drop detected, add the peak\n",
    "                    peaks.Add(resultSelector(timeSelector(data[pivotIndex]), pivotValue));\n",
    "                    // Switch to looking for a trough\n",
    "                    lookingForMax = false;\n",
    "                    pivotIndex = i;\n",
    "                    pivotValue = currentValue;\n",
    "                }\n",
    "            }\n",
    "        }\n",
    "        else\n",
    "        {\n",
    "            // Looking for a trough (local minimum)\n",
    "            if (currentValue < pivotValue)\n",
    "            {\n",
    "                // Update pivot if we are still descending\n",
    "                pivotIndex = i;\n",
    "                pivotValue = currentValue;\n",
    "            }\n",
    "            else\n",
    "            {\n",
    "                // Calculate the rise from the current pivot\n",
    "                decimal rise = (currentValue - pivotValue) / pivotValue;\n",
    "                if (rise > threshold)\n",
    "                {\n",
    "                    // Significant rise detected, add the trough\n",
    "                    peaks.Add(resultSelector(timeSelector(data[pivotIndex]), pivotValue));\n",
    "                    // Switch to looking for a peak\n",
    "                    lookingForMax = true;\n",
    "                    pivotIndex = i;\n",
    "                    pivotValue = currentValue;\n",
    "                }\n",
    "            }\n",
    "        }\n",
    "    }\n",
    "\n",
    "    return peaks;\n",
    "}\n",
    "\n",
    "// Computing peak numbers for various target percentages\n",
    "var peakPercentages = new List<decimal> { 5, 15, 25, 40 };\n",
    "\n",
    "var peakNumbers = peakPercentages.ToDictionary(\n",
    "    percentage => percentage,\n",
    "    percentage => GetPeaks(\n",
    "        btcHistory,\n",
    "        percentage,\n",
    "        bar => bar.Close, // Select the closing price\n",
    "        bar => bar.EndTime, // Select the timestamp\n",
    "        (time, value) => (Time: time, Price: value) // Return named tuple with \"Price\"\n",
    "    )\n",
    ");\n",
    "\n",
    "// Displaying the peak numbers\n",
    "foreach (var kvp in peakNumbers)\n",
    "{\n",
    "    Console.WriteLine($\"Peaks at {kvp.Key}%: {kvp.Value.Count}\");\n",
    "    foreach (var peak in kvp.Value.Take(5))\n",
    "    {\n",
    "        Console.WriteLine($\"Date: {peak.Time}, Price: {peak.Price:C}\");\n",
    "    }\n",
    "}\n"
   ]
  },
  {
   "cell_type": "markdown",
   "metadata": {},
   "source": [
    "#### Computing ideal strategy and max theoretical return\n",
    "\n",
    "We now calculate the theoretical maximum return based on the selected peaks, assuming the ideal strategy of buying at local minima and selling at local maxima.\n"
   ]
  },
  {
   "cell_type": "code",
   "execution_count": null,
   "metadata": {
    "dotnet_interactive": {
     "language": "csharp"
    },
    "polyglot_notebook": {
     "kernelName": "csharp"
    },
    "vscode": {
     "languageId": "polyglot-notebook"
    }
   },
   "outputs": [],
   "source": [
    "// Assuming threshold accounting for a target number of trades based on prior analysis\n",
    "var selectedPeaks = peakNumbers[25];\n",
    "\n",
    "// Recalculating theoretical maximum return based on the selected peaks, starting with an initial buy\n",
    "decimal initialInvestment = 5000m;\n",
    "decimal cash = initialInvestment; // Start with all cash\n",
    "decimal btcHoldings = 0m;         // Initially no BTC\n",
    "\n",
    "\n",
    "decimal firstPrice = btcHistory.First().Close; // First day's close price\n",
    "\n",
    "// Simulate buying at the first day's price\n",
    "btcHoldings = cash / firstPrice;\n",
    "cash = 0; // All cash converted to BTC\n",
    "\n",
    "bool buying = false; // Always start by buying\n",
    "\n",
    "// Process the peaks\n",
    "for (int i = 0; i < selectedPeaks.Count; i++)\n",
    "{\n",
    "    var peak = selectedPeaks[i];\n",
    "\n",
    "    if (buying)\n",
    "    {\n",
    "\n",
    "        // Buy at the current price using all cash\n",
    "        Console.WriteLine($\"Buying at {peak.Price:C} on {peak.Time}\");\n",
    "        btcHoldings = cash / peak.Price;\n",
    "        cash = 0; // All cash converted to BTC\n",
    "    }\n",
    "    else\n",
    "    {\n",
    "        // Sell all BTC at the current price\n",
    "        Console.WriteLine($\"Selling at {peak.Price:C} on {peak.Time}\");\n",
    "        cash = btcHoldings * peak.Price;\n",
    "        btcHoldings = 0; // All BTC converted to cash\n",
    "    }\n",
    "\n",
    "    // Alternate between buying and selling\n",
    "    buying = !buying;\n",
    "}\n",
    "\n",
    "// Final portfolio value is either in cash or converted BTC\n",
    "decimal finalPortfolioValue = cash + (btcHoldings * btcHistory.Last().Close);\n",
    "decimal theoreticalReturn = (finalPortfolioValue / initialInvestment) - 1;\n",
    "\n",
    "// Display the results\n",
    "Console.WriteLine($\"Theoretical Max Return: {theoreticalReturn:P}\");\n",
    "Console.WriteLine($\"Number of Trades: {selectedPeaks.Count + 1}\"); // Include the initial trade\n",
    "Console.WriteLine($\"Final Portfolio Value: {finalPortfolioValue:C}\");\n"
   ]
  },
  {
   "cell_type": "markdown",
   "metadata": {},
   "source": [
    "#### Introducing a Peak class for convenience"
   ]
  },
  {
   "cell_type": "code",
   "execution_count": 39,
   "metadata": {
    "dotnet_interactive": {
     "language": "csharp"
    },
    "polyglot_notebook": {
     "kernelName": "csharp"
    },
    "vscode": {
     "languageId": "polyglot-notebook"
    }
   },
   "outputs": [],
   "source": [
    "// A generic class to represent a peak or trough in any time series\n",
    "public class Peak\n",
    "{\n",
    "    public DateTime Time { get; set; }\n",
    "    public decimal Value { get; set; }   // Generic field for the peak value (could be Price, ADX, etc.)\n",
    "    public bool IsMax { get; set; }      // True if it's a local maximum, false if it's a local minimum\n",
    "\n",
    "    // Dynamic windows based on a percentage of the peak's value\n",
    "    public DateTime StartWindow { get; set; }\n",
    "    public DateTime EndWindow { get; set; }\n",
    "\n",
    "    // Add additional fields if needed\n",
    "}\n",
    "\n",
    "// Suppose 'selectedPeaks' is currently a List<(DateTime Time, decimal Value)>.\n",
    "// We create a new list of Peak objects.\n",
    "// Logic: We assume an alternation max/min/max/min ...\n",
    "// For a more robust approach, you'd compare the previous and next values to determine if it's a max or a min.\n",
    "\n",
    "var peaks = new List<Peak>();\n",
    "bool isMax = true; \n",
    "foreach (var p in selectedPeaks)\n",
    "{\n",
    "    peaks.Add(new Peak\n",
    "    {\n",
    "        Time = p.Time,\n",
    "        Value = p.Price,  // Or p.Value, depending on your tuple naming\n",
    "        IsMax = isMax\n",
    "    });\n",
    "    // Toggle between max and min\n",
    "    isMax = !isMax;\n",
    "}\n",
    "\n",
    "// At this stage, each Peak has Time, Value, and IsMax defined.\n",
    "// StartWindow and EndWindow will be assigned later for dynamic analysis windows.\n",
    "\n",
    "// Verification: count how many max vs. min\n",
    "int maxCount = peaks.Count(p => p.IsMax);\n",
    "int minCount = peaks.Count(p => !p.IsMax);\n",
    "\n",
    "Console.WriteLine($\"Max count: {maxCount}, Min count: {minCount}\");\n",
    "\n",
    "// Print the first few peaks\n",
    "foreach (var peak in peaks.Take(5))\n",
    "{\n",
    "    Console.WriteLine($\"Time: {peak.Time}, Value: {peak.Value:C}, IsMax: {peak.IsMax}\");\n",
    "}\n"
   ]
  },
  {
   "cell_type": "markdown",
   "metadata": {},
   "source": [
    "#### Defining dynamic windows around peaks"
   ]
  },
  {
   "cell_type": "code",
   "execution_count": 65,
   "metadata": {
    "dotnet_interactive": {
     "language": "csharp"
    },
    "polyglot_notebook": {
     "kernelName": "csharp"
    },
    "vscode": {
     "languageId": "polyglot-notebook"
    }
   },
   "outputs": [],
   "source": [
    "// Unified helper methods for dynamic window calculation.\n",
    "// The goal is to return a valid (start, end) interval, ensuring start < end when possible.\n",
    "\n",
    "(DateTime start, DateTime end) ComputeDynamicPeakWindow(\n",
    "    Peak peak,\n",
    "    decimal windowPercent,\n",
    "    List<DateTime> orderedDates,\n",
    "    Dictionary<DateTime, decimal> seriesByDate,\n",
    "    DateTime startBoundary,\n",
    "    DateTime endBoundary)\n",
    "{\n",
    "    decimal threshold = peak.IsMax\n",
    "        ? peak.Value * (1 - windowPercent)\n",
    "        : peak.Value * (1 + windowPercent);\n",
    "\n",
    "    DateTime startWindow = FindCrossingInSegment(\n",
    "        peak, threshold,\n",
    "        orderedDates, seriesByDate,\n",
    "        segmentStart: startBoundary,\n",
    "        segmentEnd: peak.Time,\n",
    "        searchingApproach: true);\n",
    "\n",
    "    DateTime endWindow = FindCrossingInSegment(\n",
    "        peak, threshold,\n",
    "        orderedDates, seriesByDate,\n",
    "        segmentStart: peak.Time,\n",
    "        segmentEnd: endBoundary,\n",
    "        searchingApproach: false);\n",
    "\n",
    "    // Sécurisation et ajustements finaux\n",
    "    if (startWindow > peak.Time) startWindow = peak.Time;\n",
    "    if (endWindow < peak.Time)   endWindow = peak.Time;\n",
    "    if (startWindow > endWindow) endWindow = startWindow;\n",
    "\n",
    "    return (startWindow, endWindow);\n",
    "}\n",
    "\n",
    "\n",
    "\n",
    "DateTime FindCrossingInSegment(\n",
    "    Peak peak,\n",
    "    decimal threshold,\n",
    "    List<DateTime> orderedDates,\n",
    "    Dictionary<DateTime, decimal> seriesByDate,\n",
    "    DateTime segmentStart,\n",
    "    DateTime segmentEnd,\n",
    "    bool searchingApproach)\n",
    "{\n",
    "    // On récupère l'index pour segmentStart et segmentEnd\n",
    "    int startIndex = orderedDates.BinarySearch(segmentStart);\n",
    "    if (startIndex < 0) startIndex = ~startIndex;\n",
    "\n",
    "    int endIndex = orderedDates.BinarySearch(segmentEnd);\n",
    "    if (endIndex < 0) endIndex = ~endIndex;\n",
    "\n",
    "    if (startIndex > endIndex) return segmentStart; // Cas incohérent\n",
    "\n",
    "    if (searchingApproach)\n",
    "    {\n",
    "        for (int i = startIndex; i <= endIndex && i < orderedDates.Count; i++)\n",
    "        {\n",
    "            var date = orderedDates[i];\n",
    "            var seriesValue = seriesByDate[date];\n",
    "\n",
    "            bool crossing = peak.IsMax\n",
    "                ? seriesValue >= threshold\n",
    "                : seriesValue <= threshold;\n",
    "\n",
    "            if (crossing)\n",
    "            {\n",
    "                return date;\n",
    "            }\n",
    "        }\n",
    "        return segmentEnd;\n",
    "    }\n",
    "    else\n",
    "    {\n",
    "        for (int i = endIndex; i >= startIndex; i--)\n",
    "        {\n",
    "            var date = orderedDates[i];\n",
    "            var seriesValue = seriesByDate[date];\n",
    "\n",
    "            bool crossing = peak.IsMax\n",
    "                ? seriesValue < threshold\n",
    "                : seriesValue > threshold;\n",
    "\n",
    "            if (crossing)\n",
    "            {\n",
    "                return date;\n",
    "            }\n",
    "        }\n",
    "        return segmentStart;\n",
    "    }\n",
    "}\n",
    "\n",
    "\n",
    "// Function to compute median value from a list of doubles\n",
    "double Median(List<double> values)\n",
    "{\n",
    "    if (values == null || values.Count == 0)\n",
    "        throw new InvalidOperationException(\"Cannot compute median for an empty set.\");\n",
    "\n",
    "    var sortedValues = values.OrderBy(x => x).ToList();\n",
    "    int count = sortedValues.Count;\n",
    "    int mid = count / 2;\n",
    "\n",
    "    if (count % 2 == 0)\n",
    "    {\n",
    "        return (sortedValues[mid - 1] + sortedValues[mid]) / 2.0;\n",
    "    }\n",
    "    else\n",
    "    {\n",
    "        return sortedValues[mid];\n",
    "    }\n",
    "}\n",
    "\n",
    "\n",
    "void ComputeDynamicWindowsForPeaks(\n",
    "    List<Peak> peaks,\n",
    "    decimal windowPercent,\n",
    "    TimeSpan minHalfWidth,\n",
    "    TimeSpan maxHalfWidth,\n",
    "    Dictionary<DateTime, decimal> seriesByDate,\n",
    "    List<DateTime> orderedDates)\n",
    "{\n",
    "    var sortedPeaks = peaks.OrderBy(x => x.Time).ToList();\n",
    "\n",
    "    for (int i = 0; i < sortedPeaks.Count; i++)\n",
    "    {\n",
    "        var currentPeak = sortedPeaks[i];\n",
    "\n",
    "        // Calcul des frontières de la fenêtre (startBoundary, endBoundary)\n",
    "        DateTime startBoundary = (i == 0)\n",
    "            ? orderedDates.First()\n",
    "            : new DateTime((sortedPeaks[i - 1].Time.Ticks + currentPeak.Time.Ticks) / 2);\n",
    "\n",
    "        DateTime endBoundary = (i == sortedPeaks.Count - 1)\n",
    "            ? orderedDates.Last()\n",
    "            : new DateTime((currentPeak.Time.Ticks + sortedPeaks[i + 1].Time.Ticks) / 2);\n",
    "\n",
    "        (DateTime s, DateTime e) = ComputeDynamicPeakWindow(\n",
    "            currentPeak,\n",
    "            windowPercent,\n",
    "            orderedDates,\n",
    "            seriesByDate,\n",
    "            startBoundary,\n",
    "            endBoundary\n",
    "        );\n",
    "\n",
    "        // Application des contraintes minHalfWidth / maxHalfWidth\n",
    "        TimeSpan preWindow = currentPeak.Time - s;\n",
    "        if (preWindow < minHalfWidth)\n",
    "            s = currentPeak.Time - minHalfWidth;\n",
    "        else if (preWindow > maxHalfWidth)\n",
    "            s = currentPeak.Time - maxHalfWidth;\n",
    "\n",
    "        if (s < orderedDates.First())\n",
    "            s = orderedDates.First();\n",
    "\n",
    "        TimeSpan postWindow = e - currentPeak.Time;\n",
    "        if (postWindow < minHalfWidth)\n",
    "            e = currentPeak.Time + minHalfWidth;\n",
    "        else if (postWindow > maxHalfWidth)\n",
    "            e = currentPeak.Time + maxHalfWidth;\n",
    "\n",
    "        if (e > orderedDates.Last())\n",
    "            e = orderedDates.Last();\n",
    "\n",
    "        // Final assignment\n",
    "        currentPeak.StartWindow = s;\n",
    "        currentPeak.EndWindow   = e;\n",
    "    }\n",
    "}\n"
   ]
  },
  {
   "cell_type": "markdown",
   "metadata": {},
   "source": [
    "#### Computing dynamic windows from new methods"
   ]
  },
  {
   "cell_type": "code",
   "execution_count": 67,
   "metadata": {
    "dotnet_interactive": {
     "language": "csharp"
    },
    "polyglot_notebook": {
     "kernelName": "csharp"
    },
    "vscode": {
     "languageId": "polyglot-notebook"
    }
   },
   "outputs": [],
   "source": [
    "// Global parameters\n",
    "decimal windowPercent = 0.2m;\n",
    "TimeSpan maxHalfWidth = TimeSpan.FromDays(30);\n",
    "TimeSpan minHalfWidth = TimeSpan.FromDays(5);\n",
    "\n",
    "var timeSeriesByDate = btcHistory.ToDictionary(x => x.EndTime, x => x.Close);\n",
    "var orderedDates = btcHistory.Select(x => x.EndTime).OrderBy(d => d).ToList();\n",
    "\n",
    "ComputeDynamicWindowsForPeaks(peaks, windowPercent, minHalfWidth, maxHalfWidth, timeSeriesByDate, orderedDates);\n",
    "\n",
    "// Now you can display stats again\n",
    "var preWindowSizes = peaks.Select(p => (p.Time - p.StartWindow).TotalDays).ToList();\n",
    "var postWindowSizes = peaks.Select(p => (p.EndWindow - p.Time).TotalDays).ToList();\n",
    "\n",
    "Console.WriteLine($\"Pre-window Sizes - Min: {preWindowSizes.Min()} days, Max: {preWindowSizes.Max()} days, Mean: {preWindowSizes.Average():F2} days, Median: {Median(preWindowSizes):F2} days\");\n",
    "Console.WriteLine($\"Post-window Sizes - Min: {postWindowSizes.Min()} days, Max: {postWindowSizes.Max()} days, Mean: {postWindowSizes.Average():F2} days, Median: {Median(postWindowSizes):F2} days\");\n",
    "\n",
    "Console.WriteLine(\"Price Peaks and Their Windows:\");\n",
    "// We sample 5 peaks at the beginning, 5 in the middle and 5 at the end\n",
    "var samplePeaks = peaks.Take(5).Concat(peaks.Skip(peaks.Count / 2).Take(5)).Concat(peaks.Skip(peaks.Count - 5));\n",
    "foreach (var peak in samplePeaks) // Display only the first 10 for brevity\n",
    "{\n",
    "    Console.WriteLine($\"Peak at {peak.Time}, Price: {peak.Value:C}\");\n",
    "    Console.WriteLine($\"  Pre-window: {peak.StartWindow} -> {peak.Time}\");\n",
    "    Console.WriteLine($\"  Post-window: {peak.Time} -> {peak.EndWindow}\");\n",
    "}\n"
   ]
  },
  {
   "cell_type": "markdown",
   "metadata": {},
   "source": [
    "#### Introducing Indicators\n",
    "\n",
    "We start by introducing a range of ADX and MACD indicator with various parameters.\n",
    "Our simple starting strategy is defined by:\n",
    "\n",
    "            var macdHistogram = _macd.Current.Value - _macd.Signal.Current.Value;\n",
    "\n",
    "            // Détermination des signaux MACD\n",
    "            var isMacdBullish = macdHistogram > 0;    // Signal haussier si l'histogramme est positif\n",
    "            var isMacdBearish = macdHistogram < 0;    // Signal baissier si l'histogramme est négatif\n",
    "\n",
    "            // Récupération de la valeur actuelle de l'ADX\n",
    "            var adxValue = _adx.Current.Value;\n",
    "\n",
    "            // Conditions d'entrée en position longue\n",
    "            if (adxValue >= AdxHigh && isMacdBullish)\n",
    "            {\n",
    "                // Si le portefeuille n'est pas déjà investi\n",
    "                if (!Portfolio.Invested)\n",
    "                {\n",
    "                    // Investit 100% du capital disponible dans le symbole\n",
    "                    SetHoldings(_symbol, 1);\n",
    "                    // Debug($\"Acheté {_symbol} au prix de {currentPrice}\");\n",
    "                }\n",
    "            }\n",
    "            // Conditions de sortie de position\n",
    "            else if (adxValue < AdxLow && isMacdBearish)\n",
    "            {\n",
    "                // Si le portefeuille est investi\n",
    "                if (Portfolio.Invested)\n",
    "                {\n",
    "                    // Liquide la position sur le symbole\n",
    "                    Liquidate(_symbol);\n",
    "                    // Debug($\"Vendu {_symbol} au prix de {currentPrice}\");\n",
    "                }\n",
    "            }\n",
    "\n",
    "Accordingly, we want to adjust adx parameters so that they are compatible with our peaks, the adjust MACD accordingly.\n"
   ]
  },
  {
   "cell_type": "markdown",
   "metadata": {},
   "source": [
    "#### Generating ADX with Various Periods\n",
    "\n",
    "We generate a range of ADX indicators with different periods. \n",
    "For each indicator, we will observe how its value changes in the window around the detected peaks.\n"
   ]
  },
  {
   "cell_type": "code",
   "execution_count": 21,
   "metadata": {
    "dotnet_interactive": {
     "language": "csharp"
    },
    "polyglot_notebook": {
     "kernelName": "csharp"
    },
    "vscode": {
     "languageId": "polyglot-notebook"
    }
   },
   "outputs": [],
   "source": [
    "// Extend historical data range to ensure indicators have sufficient warm-up\n",
    "var extendedStartDate = startDate.AddYears(-1); // Add one extra year for warm-up\n",
    "var extendedBtcHistory = qb.History<TradeBar>(btcUsdt, extendedStartDate, endDate, Resolution.Daily).ToList();\n",
    "\n",
    "// Define ADX periods to test\n",
    "var adxPeriods = new List<int> { 5, 10, 15, 20, 25, 30, 35, 50, 75, 100 };\n",
    "\n",
    "// Dictionary to store ADX values for each period\n",
    "var adxIndicators = adxPeriods.ToDictionary(\n",
    "    period => period,\n",
    "    period =>\n",
    "    {\n",
    "        var adx = qb.ADX(btcUsdt, period, Resolution.Daily);\n",
    "        var adxValues = new List<(DateTime Time, decimal Value)>();\n",
    "\n",
    "        foreach (var bar in extendedBtcHistory)\n",
    "        {\n",
    "            adx.Update(bar);\n",
    "            if (adx.IsReady)\n",
    "            {\n",
    "                adxValues.Add((bar.EndTime, adx.Current.Value));\n",
    "            }\n",
    "        }\n",
    "\n",
    "        return adxValues;\n",
    "    }\n",
    ");\n",
    "\n",
    "// Compute statistics for ADX periods\n",
    "Console.WriteLine(\"ADX Statistics for Different Periods:\");\n",
    "foreach (var period in adxPeriods)\n",
    "{\n",
    "    var values = adxIndicators[period].Select(x => x.Value).ToList();\n",
    "    var min = values.Min();\n",
    "    var max = values.Max();\n",
    "    var mean = values.Average();\n",
    "    var median = values.OrderBy(x => x).ElementAt(values.Count / 2);\n",
    "    var count = values.Count;\n",
    "\n",
    "    Console.WriteLine($\"ADX Period: {period}\");\n",
    "    Console.WriteLine($\"  Count: {count}\");\n",
    "    Console.WriteLine($\"  Min: {min:F2}\");\n",
    "    Console.WriteLine($\"  Max: {max:F2}\");\n",
    "    Console.WriteLine($\"  Mean: {mean:F2}\");\n",
    "    Console.WriteLine($\"  Median: {median:F2}\");\n",
    "    Console.WriteLine(\"---\");\n",
    "}\n"
   ]
  },
  {
   "cell_type": "markdown",
   "metadata": {},
   "source": [
    "#### Computing number of Peaks for the ADX periods"
   ]
  },
  {
   "cell_type": "code",
   "execution_count": 71,
   "metadata": {
    "dotnet_interactive": {
     "language": "csharp"
    },
    "polyglot_notebook": {
     "kernelName": "csharp"
    },
    "vscode": {
     "languageId": "polyglot-notebook"
    }
   },
   "outputs": [],
   "source": [
    "// Define threshold percentages for peaks\n",
    "var adxThresholds = new List<decimal> { 10, 20, 30, 40, 50, 60 };\n",
    "\n",
    "// Here we'll store the ADX peaks (with windows) for each period/threshold\n",
    "var adxPeaksByPeriodThreshold = new Dictionary<int, Dictionary<decimal, List<Peak>>>();\n",
    "\n",
    "Console.WriteLine(\"ADX Peak Counts and Window Statistics by Period and Threshold:\");\n",
    "\n",
    "foreach (var period in adxPeriods)\n",
    "{\n",
    "    Console.WriteLine($\"ADX Period: {period}\");\n",
    "    adxPeaksByPeriodThreshold[period] = new Dictionary<decimal, List<Peak>>();\n",
    "\n",
    "    var adxValues = adxIndicators[period];\n",
    "    // Build a dictionary <DateTime, decimal> for the dynamic window function\n",
    "    var adxByDate = adxValues.ToDictionary(x => x.Time, x => x.Value);\n",
    "\n",
    "    foreach (var threshold in adxThresholds)\n",
    "    {\n",
    "        // Apply the peak detection method to ADX values\n",
    "        var adxPeaks = GetPeaks(\n",
    "            data: adxValues,\n",
    "            thresholdPercentage: threshold,\n",
    "            valueSelector: x => x.Value,\n",
    "            timeSelector: x => x.Time,\n",
    "            // Return a Peak object directly instead of a tuple\n",
    "            resultSelector: (time, value) => new Peak\n",
    "            {\n",
    "                Time = time,\n",
    "                Value = value,\n",
    "                IsMax = true // For ADX, we typically interpret peaks as maxima\n",
    "            }\n",
    "        );\n",
    "\n",
    "        // Now we compute windows for each ADX peak using our generic method\n",
    "        decimal windowPercent = 0.2m;\n",
    "        TimeSpan minHalfWidth = TimeSpan.FromDays(5);\n",
    "        TimeSpan maxHalfWidth = TimeSpan.FromDays(30);\n",
    "\n",
    "        // Sort the ADX peaks in ascending time order\n",
    "        adxPeaks = adxPeaks.OrderBy(p => p.Time).ToList();\n",
    "\n",
    "        // We need an orderedDates list consistent with adxByDate\n",
    "        var orderedAdxDates = adxValues.Select(x => x.Time).OrderBy(d => d).ToList();\n",
    "\n",
    "        // Compute dynamic windows for ADX peaks\n",
    "        ComputeDynamicWindowsForPeaks(\n",
    "            peaks: adxPeaks,\n",
    "            windowPercent: windowPercent,\n",
    "            minHalfWidth: minHalfWidth,\n",
    "            maxHalfWidth: maxHalfWidth,\n",
    "            seriesByDate: adxByDate,\n",
    "            orderedDates: orderedAdxDates\n",
    "        );\n",
    "\n",
    "        // Store the list of ADX peaks (with dynamic windows) in a dictionary for later use\n",
    "        adxPeaksByPeriodThreshold[period][threshold] = adxPeaks;\n",
    "\n",
    "        // Collect window statistics for analysis\n",
    "        var preWindowSizes = adxPeaks.Select(p => (p.Time - p.StartWindow).TotalDays).ToList();\n",
    "        var postWindowSizes = adxPeaks.Select(p => (p.EndWindow - p.Time).TotalDays).ToList();\n",
    "\n",
    "        // Display the statistics\n",
    "        Console.WriteLine($\"  Threshold {threshold}%: {adxPeaks.Count} peaks\");\n",
    "        Console.WriteLine($\"    Pre-window Sizes - Min: {preWindowSizes.Min()} days, Max: {preWindowSizes.Max()} days, Mean: {preWindowSizes.Average():F2} days, Median: {Median(preWindowSizes):F2} days\");\n",
    "        Console.WriteLine($\"    Post-window Sizes - Min: {postWindowSizes.Min()} days, Max: {postWindowSizes.Max()} days, Mean: {postWindowSizes.Average():F2} days, Median: {Median(postWindowSizes):F2} days\");\n",
    "    }\n",
    "    Console.WriteLine(\"---\");\n",
    "}\n"
   ]
  },
  {
   "cell_type": "markdown",
   "metadata": {},
   "source": [
    "#### Correlating ADX peaks with Price peak windows\n"
   ]
  },
  {
   "cell_type": "code",
   "execution_count": 70,
   "metadata": {
    "dotnet_interactive": {
     "language": "csharp"
    },
    "polyglot_notebook": {
     "kernelName": "csharp"
    },
    "vscode": {
     "languageId": "polyglot-notebook"
    }
   },
   "outputs": [],
   "source": [
    "int OverlappingWindows(List<Peak> pricePeaks, List<Peak> adxPeaks)\n",
    "{\n",
    "    int overlapCount = 0;\n",
    "    foreach (var pricePeak in pricePeaks)\n",
    "    {\n",
    "        foreach (var adxPeak in adxPeaks)\n",
    "        {\n",
    "            // Condition de recouvrement\n",
    "            bool isOverlapping = \n",
    "                pricePeak.StartWindow < adxPeak.EndWindow &&\n",
    "                adxPeak.StartWindow < pricePeak.EndWindow;\n",
    "            if (isOverlapping)\n",
    "            {\n",
    "                overlapCount++;\n",
    "                break; // On compte ce pricePeak comme corrélé à un pic ADX\n",
    "            }\n",
    "        }\n",
    "    }\n",
    "    return overlapCount;\n",
    "}\n",
    "\n",
    "\n",
    "foreach (var period in adxPeriods)\n",
    "{\n",
    "    foreach (var threshold in adxThresholds)\n",
    "    {\n",
    "        var currentAdxPeaks = adxPeaksByPeriodThreshold[period][threshold];\n",
    "        int overlapCount = OverlappingWindows(peaks, currentAdxPeaks);\n",
    "        Console.WriteLine($\"Period: {period}, Threshold: {threshold} => Overlap with Price Peaks: {overlapCount}\");\n",
    "    }\n",
    "}\n"
   ]
  },
  {
   "cell_type": "markdown",
   "metadata": {},
   "source": [
    "#### Generating MACD for various sets of parameters"
   ]
  },
  {
   "cell_type": "code",
   "execution_count": 75,
   "metadata": {
    "dotnet_interactive": {
     "language": "csharp"
    },
    "polyglot_notebook": {
     "kernelName": "csharp"
    },
    "vscode": {
     "languageId": "polyglot-notebook"
    }
   },
   "outputs": [],
   "source": [
    "using QuantConnect.Indicators;\n",
    "// Define MACD parameter combinations\n",
    "var macdCombinations = new List<(int Fast, int Slow, int Signal)>\n",
    "{\n",
    "    (8, 21, 7), (8, 26, 9), (8, 30, 12),\n",
    "    (12, 21, 7), (12, 26, 9), (12, 30, 12),\n",
    "    (15, 21, 7), (15, 26, 9), (15, 30, 12)\n",
    "};\n",
    "\n",
    "// Dictionary to store MACD values for each combination\n",
    "var macdValuesByCombination = new Dictionary<(int Fast, int Slow, int Signal), List<(DateTime Time, decimal Macd, decimal Signal, decimal Histogram)>>();\n",
    "\n",
    "Console.WriteLine(\"MACD Computation for Parameter Combinations:\");\n",
    "\n",
    "foreach (var (fast, slow, signal) in macdCombinations)\n",
    "{\n",
    "    // Initialize MACD indicator with specified parameters\n",
    "    var macd = qb.MACD(btcUsdt, fast, slow, signal, MovingAverageType.Exponential, Resolution.Daily);\n",
    "    var macdValues = new List<(DateTime Time, decimal Macd, decimal Signal, decimal Histogram)>();\n",
    "\n",
    "    // Calculate MACD values for the extended historical data\n",
    "    foreach (var bar in extendedBtcHistory)\n",
    "    {\n",
    "        macd.Update(bar.EndTime, bar.Close);\n",
    "        if (macd.IsReady)\n",
    "        {\n",
    "            macdValues.Add((\n",
    "                bar.EndTime,\n",
    "                macd.Current.Value,        // MACD line\n",
    "                macd.Signal.Current.Value, // Signal line\n",
    "                macd.Current.Value - macd.Signal.Current.Value // Histogram\n",
    "            ));\n",
    "        }\n",
    "    }\n",
    "\n",
    "    macdValuesByCombination[(fast, slow, signal)] = macdValues;\n",
    "\n",
    "    // Output summary\n",
    "    Console.WriteLine($\"  Fast: {fast}, Slow: {slow}, Signal: {signal} => {macdValues.Count} data points\");\n",
    "}\n"
   ]
  },
  {
   "cell_type": "markdown",
   "metadata": {},
   "source": [
    "#### Computing bullish and bearish periods for the MACD indicators"
   ]
  },
  {
   "cell_type": "code",
   "execution_count": 76,
   "metadata": {
    "dotnet_interactive": {
     "language": "csharp"
    },
    "polyglot_notebook": {
     "kernelName": "csharp"
    },
    "vscode": {
     "languageId": "polyglot-notebook"
    }
   },
   "outputs": [],
   "source": [
    "// Dictionary to store bullish and bearish periods for each combination\n",
    "var macdPeriodsByCombination = new Dictionary<(int Fast, int Slow, int Signal), (List<(DateTime Start, DateTime End)> Bullish, List<(DateTime Start, DateTime End)> Bearish)>();\n",
    "\n",
    "Console.WriteLine(\"MACD Bullish and Bearish Periods:\");\n",
    "\n",
    "foreach (var (fast, slow, signal) in macdCombinations)\n",
    "{\n",
    "    var macdValues = macdValuesByCombination[(fast, slow, signal)];\n",
    "    var bullishPeriods = new List<(DateTime Start, DateTime End)>();\n",
    "    var bearishPeriods = new List<(DateTime Start, DateTime End)>();\n",
    "\n",
    "    DateTime? currentStart = null;\n",
    "    bool? currentTrend = null; // True for bullish, False for bearish\n",
    "\n",
    "    foreach (var (time, macd, signalLine, histogram) in macdValues)\n",
    "    {\n",
    "        var isBullish = histogram > 0;\n",
    "\n",
    "        if (currentTrend == null)\n",
    "        {\n",
    "            // Initialize the trend\n",
    "            currentTrend = isBullish;\n",
    "            currentStart = time;\n",
    "        }\n",
    "        else if (isBullish != currentTrend)\n",
    "        {\n",
    "            // End the current period\n",
    "            if (currentTrend == true)\n",
    "                bullishPeriods.Add((currentStart.Value, time));\n",
    "            else\n",
    "                bearishPeriods.Add((currentStart.Value, time));\n",
    "\n",
    "            // Start a new period\n",
    "            currentTrend = isBullish;\n",
    "            currentStart = time;\n",
    "        }\n",
    "    }\n",
    "\n",
    "    // Handle the last period\n",
    "    if (currentStart != null)\n",
    "    {\n",
    "        if (currentTrend == true)\n",
    "            bullishPeriods.Add((currentStart.Value, macdValues.Last().Time));\n",
    "        else\n",
    "            bearishPeriods.Add((currentStart.Value, macdValues.Last().Time));\n",
    "    }\n",
    "\n",
    "    macdPeriodsByCombination[(fast, slow, signal)] = (bullishPeriods, bearishPeriods);\n",
    "\n",
    "    // Output summary\n",
    "    Console.WriteLine($\"  Fast: {fast}, Slow: {slow}, Signal: {signal}\");\n",
    "    Console.WriteLine($\"    Bullish periods: {bullishPeriods.Count}, Total duration: {bullishPeriods.Sum(p => (p.End - p.Start).TotalDays):F1} days\");\n",
    "    Console.WriteLine($\"    Bearish periods: {bearishPeriods.Count}, Total duration: {bearishPeriods.Sum(p => (p.End - p.Start).TotalDays):F1} days\");\n",
    "}\n"
   ]
  },
  {
   "cell_type": "markdown",
   "metadata": {},
   "source": [
    "#### Correlating MACD periods and peak periods"
   ]
  },
  {
   "cell_type": "code",
   "execution_count": 77,
   "metadata": {
    "dotnet_interactive": {
     "language": "csharp"
    },
    "polyglot_notebook": {
     "kernelName": "csharp"
    },
    "vscode": {
     "languageId": "polyglot-notebook"
    }
   },
   "outputs": [],
   "source": [
    "// Helper method to calculate overlap between two periods\n",
    "double CalculateOverlap(DateTime start1, DateTime end1, DateTime start2, DateTime end2)\n",
    "{\n",
    "    var overlapStart = start1 > start2 ? start1 : start2;\n",
    "    var overlapEnd = end1 < end2 ? end1 : end2;\n",
    "    return (overlapEnd > overlapStart) ? (overlapEnd - overlapStart).TotalDays : 0.0;\n",
    "}\n",
    "\n",
    "// Define long-term price trends based on price peaks\n",
    "var longTermTrends = new List<(DateTime Start, DateTime End, bool IsBullish)>();\n",
    "for (int i = 1; i < peaks.Count; i++)\n",
    "{\n",
    "    var prevPeak = peaks[i - 1];\n",
    "    var currPeak = peaks[i];\n",
    "\n",
    "    // Bullish: min -> max, Bearish: max -> min\n",
    "    if (prevPeak.IsMax && !currPeak.IsMax)\n",
    "    {\n",
    "        longTermTrends.Add((prevPeak.Time, currPeak.Time, false)); // Bearish\n",
    "    }\n",
    "    else if (!prevPeak.IsMax && currPeak.IsMax)\n",
    "    {\n",
    "        longTermTrends.Add((prevPeak.Time, currPeak.Time, true)); // Bullish\n",
    "    }\n",
    "}\n",
    "\n",
    "Console.WriteLine($\"Defined {longTermTrends.Count} long-term trends based on price peaks.\");\n",
    "\n",
    "// Compare MACD periods with long-term trends\n",
    "Console.WriteLine(\"MACD Period Overlap with Long-Term Trends:\");\n",
    "foreach (var (fast, slow, signal) in macdCombinations)\n",
    "{\n",
    "    var (macdBullish, macdBearish) = macdPeriodsByCombination[(fast, slow, signal)];\n",
    "\n",
    "    double totalBullishOverlap = 0.0;\n",
    "    double totalBearishOverlap = 0.0;\n",
    "\n",
    "    foreach (var (trendStart, trendEnd, isBullish) in longTermTrends)\n",
    "    {\n",
    "        var macdPeriods = isBullish ? macdBullish : macdBearish;\n",
    "\n",
    "        foreach (var (macdStart, macdEnd) in macdPeriods)\n",
    "        {\n",
    "            totalBullishOverlap += isBullish ? CalculateOverlap(trendStart, trendEnd, macdStart, macdEnd) : 0.0;\n",
    "            totalBearishOverlap += !isBullish ? CalculateOverlap(trendStart, trendEnd, macdStart, macdEnd) : 0.0;\n",
    "        }\n",
    "    }\n",
    "\n",
    "    double totalTrendBullishDuration = longTermTrends.Where(t => t.IsBullish).Sum(t => (t.End - t.Start).TotalDays);\n",
    "    double totalTrendBearishDuration = longTermTrends.Where(t => !t.IsBullish).Sum(t => (t.End - t.Start).TotalDays);\n",
    "\n",
    "    Console.WriteLine($\"  Fast: {fast}, Slow: {slow}, Signal: {signal}\");\n",
    "    Console.WriteLine($\"    Bullish Overlap: {totalBullishOverlap:F1} days ({(totalTrendBullishDuration > 0 ? totalBullishOverlap / totalTrendBullishDuration * 100 : 0):F2}%)\");\n",
    "    Console.WriteLine($\"    Bearish Overlap: {totalBearishOverlap:F1} days ({(totalTrendBearishDuration > 0 ? totalBearishOverlap / totalTrendBearishDuration * 100 : 0):F2}%)\");\n",
    "}\n"
   ]
  },
  {
   "cell_type": "code",
   "execution_count": 78,
   "metadata": {
    "dotnet_interactive": {
     "language": "csharp"
    },
    "polyglot_notebook": {
     "kernelName": "csharp"
    },
    "vscode": {
     "languageId": "polyglot-notebook"
    }
   },
   "outputs": [],
   "source": [
    "// Measure temporal distance between MACD signals and trend reversals\n",
    "Console.WriteLine(\"Temporal Distance Between MACD Signals and Trend Reversals:\");\n",
    "\n",
    "foreach (var (fast, slow, signal) in macdCombinations)\n",
    "{\n",
    "    var (macdBullish, macdBearish) = macdPeriodsByCombination[(fast, slow, signal)];\n",
    "\n",
    "    double totalDistanceBullish = 0.0;\n",
    "    double totalDistanceBearish = 0.0;\n",
    "    int countBullish = 0;\n",
    "    int countBearish = 0;\n",
    "\n",
    "    foreach (var (trendStart, trendEnd, isBullish) in longTermTrends)\n",
    "    {\n",
    "        var macdPeriods = isBullish ? macdBullish : macdBearish;\n",
    "\n",
    "        foreach (var (macdStart, macdEnd) in macdPeriods)\n",
    "        {\n",
    "            if (macdStart <= trendEnd && macdEnd >= trendStart)\n",
    "            {\n",
    "                // Calculate distances\n",
    "                double startDistance = Math.Abs((macdStart - trendStart).TotalDays);\n",
    "                double endDistance = Math.Abs((macdEnd - trendEnd).TotalDays);\n",
    "\n",
    "                if (isBullish)\n",
    "                {\n",
    "                    totalDistanceBullish += startDistance + endDistance;\n",
    "                    countBullish += 2;\n",
    "                }\n",
    "                else\n",
    "                {\n",
    "                    totalDistanceBearish += startDistance + endDistance;\n",
    "                    countBearish += 2;\n",
    "                }\n",
    "            }\n",
    "        }\n",
    "    }\n",
    "\n",
    "    Console.WriteLine($\"  Fast: {fast}, Slow: {slow}, Signal: {signal}\");\n",
    "    Console.WriteLine($\"    Avg Distance (Bullish): {(countBullish > 0 ? totalDistanceBullish / countBullish : 0):F2} days\");\n",
    "    Console.WriteLine($\"    Avg Distance (Bearish): {(countBearish > 0 ? totalDistanceBearish / countBearish : 0):F2} days\");\n",
    "}\n"
   ]
  },
  {
   "cell_type": "code",
   "execution_count": null,
   "metadata": {
    "dotnet_interactive": {
     "language": "csharp"
    },
    "polyglot_notebook": {
     "kernelName": "csharp"
    },
    "vscode": {
     "languageId": "polyglot-notebook"
    }
   },
   "outputs": [],
   "source": []
  },
  {
   "cell_type": "markdown",
   "metadata": {},
   "source": [
    "#### Selecting ADX and MACD initial sets of parameters "
   ]
  },
  {
   "cell_type": "code",
   "execution_count": 85,
   "metadata": {
    "dotnet_interactive": {
     "language": "csharp"
    },
    "polyglot_notebook": {
     "kernelName": "csharp"
    },
    "vscode": {
     "languageId": "polyglot-notebook"
    }
   },
   "outputs": [],
   "source": [
    "Console.WriteLine(\"Combining MACD and ADX to Analyze Long-Term Trend Alignment:\");\n",
    "\n",
    "foreach (var (fast, slow, signal) in macdCombinations)\n",
    "{\n",
    "    var (macdBullish, macdBearish) = macdPeriodsByCombination[(fast, slow, signal)];\n",
    "    var totalBullishOverlap = 0.0;\n",
    "    var totalBearishOverlap = 0.0;\n",
    "\n",
    "    foreach (var (trendStart, trendEnd, isBullish) in longTermTrends)\n",
    "    {\n",
    "        var macdPeriods = isBullish ? macdBullish : macdBearish;\n",
    "        foreach (var (macdStart, macdEnd) in macdPeriods)\n",
    "        {\n",
    "            if (macdStart <= trendEnd && macdEnd >= trendStart)\n",
    "            {\n",
    "                // Corriger les comparaisons avec .Ticks\n",
    "                var overlapStart = macdStart > trendStart ? macdStart : trendStart;\n",
    "                var overlapEnd = macdEnd < trendEnd ? macdEnd : trendEnd;\n",
    "\n",
    "                var overlap = (overlapEnd - overlapStart).TotalDays;\n",
    "                if (overlap > 0)\n",
    "                {\n",
    "                    var adxStart = overlapStart;\n",
    "                    var adxEnd = overlapEnd;\n",
    "\n",
    "                    var adxOverlap = adxPeaksByPeriodThreshold[20][30]\n",
    "                        .Count(adx => adx.StartWindow <= adxEnd && adx.EndWindow >= adxStart);\n",
    "\n",
    "                    if (isBullish) totalBullishOverlap += overlap * adxOverlap;\n",
    "                    else totalBearishOverlap += overlap * adxOverlap;\n",
    "                }\n",
    "            }\n",
    "        }\n",
    "    }\n",
    "\n",
    "    Console.WriteLine($\"  Fast: {fast}, Slow: {slow}, Signal: {signal}\");\n",
    "    Console.WriteLine($\"    Weighted Bullish Overlap: {totalBullishOverlap:F2} days\");\n",
    "    Console.WriteLine($\"    Weighted Bearish Overlap: {totalBearishOverlap:F2} days\");\n",
    "}\n"
   ]
  },
  {
   "cell_type": "code",
   "execution_count": 86,
   "metadata": {
    "dotnet_interactive": {
     "language": "csharp"
    },
    "polyglot_notebook": {
     "kernelName": "csharp"
    },
    "vscode": {
     "languageId": "polyglot-notebook"
    }
   },
   "outputs": [],
   "source": [
    "Console.WriteLine(\"Evaluating Price Impact During Overlap Periods:\");\n",
    "\n",
    "\n",
    "foreach (var (fast, slow, signal) in macdCombinations)\n",
    "{\n",
    "    var (macdBullish, macdBearish) = macdPeriodsByCombination[(fast, slow, signal)];\n",
    "    var bullishPriceImpact = 0.0m;\n",
    "    var bearishPriceImpact = 0.0m;\n",
    "\n",
    "    foreach (var (trendStart, trendEnd, isBullish) in longTermTrends)\n",
    "    {\n",
    "        var macdPeriods = isBullish ? macdBullish : macdBearish;\n",
    "        foreach (var (macdStart, macdEnd) in macdPeriods)\n",
    "        {\n",
    "            if (macdStart <= trendEnd && macdEnd >= trendStart)\n",
    "            {\n",
    "                var overlapStart = macdStart > trendStart ? macdStart : trendStart;\n",
    "                var overlapEnd = macdEnd < trendEnd ? macdEnd : trendEnd;\n",
    "\n",
    "                if (overlapEnd > overlapStart)\n",
    "                {\n",
    "                    var startPrice = priceByDate[overlapStart];\n",
    "                    var endPrice = priceByDate[overlapEnd];\n",
    "                    var priceChange = (endPrice - startPrice) / startPrice;\n",
    "\n",
    "                    if (isBullish) bullishPriceImpact += priceChange;\n",
    "                    else bearishPriceImpact += priceChange;\n",
    "                }\n",
    "            }\n",
    "        }\n",
    "    }\n",
    "\n",
    "    Console.WriteLine($\"  Fast: {fast}, Slow: {slow}, Signal: {signal}\");\n",
    "    Console.WriteLine($\"    Bullish Price Impact: {bullishPriceImpact:P}\");\n",
    "    Console.WriteLine($\"    Bearish Price Impact: {bearishPriceImpact:P}\");\n",
    "}\n"
   ]
  },
  {
   "cell_type": "code",
   "execution_count": 88,
   "metadata": {
    "dotnet_interactive": {
     "language": "csharp"
    },
    "polyglot_notebook": {
     "kernelName": "csharp"
    },
    "vscode": {
     "languageId": "polyglot-notebook"
    }
   },
   "outputs": [],
   "source": [
    "List<(DateTime Start, DateTime End)> ExtractBullishPeriods(List<(DateTime Time, decimal Macd, decimal Signal, decimal Histogram)> macdValues)\n",
    "{\n",
    "    var bullishPeriods = new List<(DateTime Start, DateTime End)>();\n",
    "    DateTime? currentStart = null;\n",
    "\n",
    "    foreach (var macdValue in macdValues)\n",
    "    {\n",
    "        if (macdValue.Histogram > 0) // Bullish condition\n",
    "        {\n",
    "            if (currentStart == null)\n",
    "            {\n",
    "                currentStart = macdValue.Time;\n",
    "            }\n",
    "        }\n",
    "        else if (currentStart != null) // End of bullish period\n",
    "        {\n",
    "            bullishPeriods.Add((currentStart.Value, macdValue.Time));\n",
    "            currentStart = null;\n",
    "        }\n",
    "    }\n",
    "\n",
    "    // Close the last bullish period if still open\n",
    "    if (currentStart != null)\n",
    "    {\n",
    "        bullishPeriods.Add((currentStart.Value, macdValues.Last().Time));\n",
    "    }\n",
    "\n",
    "    return bullishPeriods;\n",
    "}\n",
    "\n",
    "List<(DateTime Start, DateTime End)> ExtractBearishPeriods(List<(DateTime Time, decimal Macd, decimal Signal, decimal Histogram)> macdValues)\n",
    "{\n",
    "    var bearishPeriods = new List<(DateTime Start, DateTime End)>();\n",
    "    DateTime? currentStart = null;\n",
    "\n",
    "    foreach (var macdValue in macdValues)\n",
    "    {\n",
    "        if (macdValue.Histogram < 0) // Bearish condition\n",
    "        {\n",
    "            if (currentStart == null)\n",
    "            {\n",
    "                currentStart = macdValue.Time;\n",
    "            }\n",
    "        }\n",
    "        else if (currentStart != null) // End of bearish period\n",
    "        {\n",
    "            bearishPeriods.Add((currentStart.Value, macdValue.Time));\n",
    "            currentStart = null;\n",
    "        }\n",
    "    }\n",
    "\n",
    "    // Close the last bearish period if still open\n",
    "    if (currentStart != null)\n",
    "    {\n",
    "        bearishPeriods.Add((currentStart.Value, macdValues.Last().Time));\n",
    "    }\n",
    "\n",
    "    return bearishPeriods;\n",
    "}\n"
   ]
  },
  {
   "cell_type": "code",
   "execution_count": 90,
   "metadata": {
    "dotnet_interactive": {
     "language": "csharp"
    },
    "polyglot_notebook": {
     "kernelName": "csharp"
    },
    "vscode": {
     "languageId": "polyglot-notebook"
    }
   },
   "outputs": [],
   "source": [
    "var bullishPriceImpacts = new Dictionary<(int Fast, int Slow, int Signal), decimal>();\n",
    "var bearishPriceImpacts = new Dictionary<(int Fast, int Slow, int Signal), decimal>();\n",
    "\n",
    "foreach (var (fast, slow, signal) in macdCombinations)\n",
    "{\n",
    "    var macdValues = macdValuesByCombination[(fast, slow, signal)];\n",
    "\n",
    "    // Extract bullish and bearish periods\n",
    "    var bullishPeriods = ExtractBullishPeriods(macdValues);\n",
    "    var bearishPeriods = ExtractBearishPeriods(macdValues);\n",
    "\n",
    "    var bullishImpact = 1m;\n",
    "    var bearishImpact = 1m;\n",
    "\n",
    "    // Calculate price impacts for bullish periods\n",
    "    foreach (var (start, end) in bullishPeriods)\n",
    "    {\n",
    "        if (priceByDate.ContainsKey(start) && priceByDate.ContainsKey(end))\n",
    "        {\n",
    "            bullishImpact *= priceByDate[end] / priceByDate[start];\n",
    "        }\n",
    "    }\n",
    "\n",
    "    // Calculate price impacts for bearish periods\n",
    "    foreach (var (start, end) in bearishPeriods)\n",
    "    {\n",
    "        if (priceByDate.ContainsKey(start) && priceByDate.ContainsKey(end))\n",
    "        {\n",
    "            bearishImpact *= priceByDate[start] / priceByDate[end];\n",
    "        }\n",
    "    }\n",
    "\n",
    "    bullishPriceImpacts[(fast, slow, signal)] = (bullishImpact - 1) * 100;\n",
    "    bearishPriceImpacts[(fast, slow, signal)] = (1 - bearishImpact) * 100;\n",
    "\n",
    "    Console.WriteLine($\"Fast: {fast}, Slow: {slow}, Signal: {signal}\");\n",
    "    Console.WriteLine($\"  Bullish Price Impact: {bullishPriceImpacts[(fast, slow, signal)]:F2}%\");\n",
    "    Console.WriteLine($\"  Bearish Price Impact: {bearishPriceImpacts[(fast, slow, signal)]:F2}%\");\n",
    "}\n"
   ]
  },
  {
   "cell_type": "markdown",
   "metadata": {},
   "source": [
    "#### Analysing ADX and MACD to prepare optimization of the remaining parameters"
   ]
  },
  {
   "cell_type": "code",
   "execution_count": null,
   "metadata": {
    "dotnet_interactive": {
     "language": "csharp"
    },
    "polyglot_notebook": {
     "kernelName": "csharp"
    },
    "vscode": {
     "languageId": "polyglot-notebook"
    }
   },
   "outputs": [],
   "source": []
  }
 ],
 "metadata": {
  "kernelspec": {
   "display_name": ".NET (C#)",
   "language": "C#",
   "name": ".net-csharp"
  },
  "language_info": {
   "file_extension": ".cs",
   "mimetype": "text/x-csharp",
   "name": "C#",
   "pygments_lexer": "csharp",
   "version": "10.0"
  },
  "polyglot_notebook": {
   "kernelInfo": {
    "defaultKernelName": "csharp",
    "items": [
     {
      "aliases": [],
      "name": "csharp"
     }
    ]
   }
  }
 },
 "nbformat": 4,
 "nbformat_minor": 2
}
