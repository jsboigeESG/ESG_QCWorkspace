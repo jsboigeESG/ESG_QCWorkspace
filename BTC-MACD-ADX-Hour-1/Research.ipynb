{
 "cells": [
  {
   "cell_type": "markdown",
   "metadata": {},
   "source": [
    "![QuantConnect Logo](https://cdn.quantconnect.com/web/i/icon.png)\n",
    "<hr>"
   ]
  },
  {
   "cell_type": "markdown",
   "metadata": {},
   "source": [
    "#### Setting up environment"
   ]
  },
  {
   "cell_type": "code",
   "execution_count": 1,
   "metadata": {
    "dotnet_interactive": {
     "language": "csharp"
    },
    "polyglot_notebook": {
     "kernelName": "csharp"
    },
    "vscode": {
     "languageId": "polyglot-notebook"
    }
   },
   "outputs": [],
   "source": [
    "// We need to load assemblies at the start in their own cell\n",
    "#load \"../Initialize.csx\""
   ]
  },
  {
   "cell_type": "code",
   "execution_count": 2,
   "metadata": {
    "dotnet_interactive": {
     "language": "csharp"
    },
    "polyglot_notebook": {
     "kernelName": "csharp"
    },
    "vscode": {
     "languageId": "polyglot-notebook"
    }
   },
   "outputs": [],
   "source": [
    "// QuantBook C# Research Environment\n",
    "// For more information see https://www.quantconnect.com/docs/v2/our-platform/research/getting-started\n",
    "#load \"../QuantConnect.csx\"\n"
   ]
  },
  {
   "cell_type": "markdown",
   "metadata": {},
   "source": [
    "#### Loading up crypto data"
   ]
  },
  {
   "cell_type": "code",
   "execution_count": 3,
   "metadata": {
    "dotnet_interactive": {
     "language": "csharp"
    },
    "polyglot_notebook": {
     "kernelName": "csharp"
    },
    "vscode": {
     "languageId": "polyglot-notebook"
    }
   },
   "outputs": [],
   "source": [
    "// Import namespaces\n",
    "using QuantConnect;\n",
    "using QuantConnect.Data.Market;\n",
    "using QuantConnect.Data;\n",
    "using QuantConnect.Brokerages;\n",
    "using System;\n",
    "using System.Linq;\n",
    "using System.Collections.Generic;\n",
    "using QuantConnect.Research;\n",
    "\n",
    "// Initialize QuantBook\n",
    "var qb = new QuantConnect.Research.QuantBook();\n",
    "\n",
    "qb.SetAccountCurrency(\"USDT\");\n",
    "qb.SetBrokerageModel(BrokerageName.Binance, AccountType.Cash);\n",
    "\n",
    "var btcUsdt = qb.AddCrypto(\"BTCUSDT\", Resolution.Hour, Market.Binance).Symbol;\n",
    "\n",
    "// Date range\n",
    "var startDate = new DateTime(2013, 04, 07);\n",
    "var endDate = new DateTime(2024, 11, 1);\n",
    "\n",
    "var btcHistoryHour = qb.History<TradeBar>(btcUsdt, startDate, endDate, Resolution.Hour).ToList();\n",
    "Console.WriteLine($\"Number of hourly data points: {btcHistoryHour.Count}\");\n",
    "foreach (var bar in btcHistoryHour.Take(5))\n",
    "{\n",
    "    Console.WriteLine($\"Date: {bar.EndTime}, Open: {bar.Open}, High: {bar.High}, Low: {bar.Low}, Close: {bar.Close}, Volume: {bar.Volume}\");\n",
    "}"
   ]
  },
  {
   "cell_type": "markdown",
   "metadata": {},
   "source": [
    "#### Calcul du rendement du Benchmark (HODL)\n",
    "\n",
    "Pour évaluer les performances de notre stratégie horaire, nous devons comparer ses résultats avec un benchmark simple, ici un hodl sur BTC. \n",
    "\n",
    "Le benchmark suppose un investissement initial de **5000 USDT** converti en BTC à la première heure du backtest. Nous suivons ensuite l'évolution de cet investissement en fonction des prix horaires de clôture jusqu'à la fin de la période étudiée.\n",
    "\n",
    "Ce calcul fournit une référence pour analyser si la stratégie ajoutée surperforme ou sous-performe par rapport à un investissement passif en BTC.\n"
   ]
  },
  {
   "cell_type": "code",
   "execution_count": null,
   "metadata": {
    "dotnet_interactive": {
     "language": "csharp"
    },
    "polyglot_notebook": {
     "kernelName": "csharp"
    },
    "vscode": {
     "languageId": "polyglot-notebook"
    }
   },
   "outputs": [],
   "source": [
    "//// Assuming initialInvestment remains the same (5000 USDT):\n",
    "decimal initialInvestment = 5000m;\n",
    "\n",
    "// We already have btcHistoryHour as a List<TradeBar>\n",
    "// We'll compute a cumulative return as if we bought BTC at the first hour's close and held throughout.\n",
    "\n",
    "// Get the first close price\n",
    "decimal firstClose = btcHistoryHour.First().Close;\n",
    "decimal runningTotal = initialInvestment;\n",
    "\n",
    "var cumulativeReturnHour = new List<(DateTime Time, decimal PortfolioValue)>();\n",
    "\n",
    "foreach (var bar in btcHistoryHour)\n",
    "{\n",
    "    runningTotal = initialInvestment * (bar.Close / firstClose);\n",
    "    cumulativeReturnHour.Add((bar.EndTime, runningTotal));\n",
    "}\n",
    "\n",
    "// Display some returns\n",
    "Console.WriteLine(\"Benchmark (HODL) portfolio evolution:\");\n",
    "foreach (var point in cumulativeReturnHour.Take(5))\n",
    "{\n",
    "    Console.WriteLine($\"DateTime: {point.Time}, Portfolio Value: {point.PortfolioValue:C}\");\n",
    "}\n",
    "\n",
    "Console.WriteLine($\"Final Portfolio Value: {cumulativeReturnHour.Last().Time}: {cumulativeReturnHour.Last().PortfolioValue:C} BTC Close {btcHistoryHour.Last().Close}$/BTC\");\n"
   ]
  },
  {
   "cell_type": "markdown",
   "metadata": {},
   "source": [
    "#### Aggegating hours to daily"
   ]
  },
  {
   "cell_type": "code",
   "execution_count": 4,
   "metadata": {
    "dotnet_interactive": {
     "language": "csharp"
    },
    "polyglot_notebook": {
     "kernelName": "csharp"
    },
    "vscode": {
     "languageId": "polyglot-notebook"
    }
   },
   "outputs": [],
   "source": [
    "var dailyData = btcHistoryHour\n",
    "    .GroupBy(x => x.EndTime.Date)\n",
    "    .Select(g => new TradeBar\n",
    "    {\n",
    "        Time = g.Key,\n",
    "        Open = g.First().Open,\n",
    "        High = g.Max(x => x.High),\n",
    "        Low = g.Min(x => x.Low),\n",
    "        Close = g.Last().Close,\n",
    "        Volume = g.Sum(x => x.Volume),\n",
    "        Symbol = btcUsdt\n",
    "    })\n",
    "    .OrderBy(x => x.Time)\n",
    "    .ToList();\n",
    "\n",
    "\n",
    "// Maintenant dailyData contient une liste de TradeBars quotidiens reconstitués depuis l'horaire.\n",
    "\n",
    "\n",
    "// Afficher quelques lignes pour vérifier\n",
    "foreach (var bar in dailyData.Take(5))\n",
    "{\n",
    "    Console.WriteLine($\"{bar.Time.ToShortDateString()} O:{bar.Open} H:{bar.High} L:{bar.Low} C:{bar.Close}\");\n",
    "}"
   ]
  },
  {
   "cell_type": "markdown",
   "metadata": {},
   "source": [
    "#### Affichage des résultats pour des segments de marché spécifiques\n",
    "\n",
    "Divisons la période en segments : phases haussières, baissières et consolidations. Analysons les performances de l'algorithme sur chaque phase pour évaluer la sensibilité des indicateurs."
   ]
  },
  {
   "cell_type": "code",
   "execution_count": 8,
   "metadata": {
    "dotnet_interactive": {
     "language": "csharp"
    },
    "polyglot_notebook": {
     "kernelName": "csharp"
    },
    "vscode": {
     "languageId": "polyglot-notebook"
    }
   },
   "outputs": [],
   "source": [
    "// Déterminer les phases du marché\n",
    "var trendPhases = dailyData.Select((bar, index) => new\n",
    "{\n",
    "    Index = index,\n",
    "    Time = bar.Time,\n",
    "    Close = bar.Close,\n",
    "    PreviousClose = index > 0 ? dailyData[index - 1].Close : bar.Close,\n",
    "    Trend = index > 0\n",
    "        ? (bar.Close > dailyData[index - 1].Close ? \"Bullish\" :\n",
    "           (bar.Close < dailyData[index - 1].Close ? \"Bearish\" : \"Flat\"))\n",
    "        : \"Flat\"\n",
    "}).ToList();\n",
    "\n",
    "// Groupement par tendance\n",
    "var groupedPhases = trendPhases.GroupBy(p => p.Trend)\n",
    "    .ToDictionary(g => g.Key, g => g.ToList());\n",
    "\n",
    "// Affichage des statistiques par tendance\n",
    "foreach (var trend in groupedPhases)\n",
    "{\n",
    "    Console.WriteLine($\"Trend: {trend.Key}, Days: {trend.Value.Count}\");\n",
    "    var avgReturn = trend.Value\n",
    "        .Select(p => (p.Close - p.PreviousClose) / p.PreviousClose)\n",
    "        .Average();\n",
    "    Console.WriteLine($\"Average Return: {avgReturn:P}\");\n",
    "}\n"
   ]
  },
  {
   "cell_type": "markdown",
   "metadata": {},
   "source": [
    "#### Setting Dynamic ADX Percentiles\n",
    "\n",
    "We introduce parameters `AdxLowerPercentile` and `AdxUpperPercentile` to replicate the logic tested in daily resolution. In the daily approach, we found that (6,86) was good, but hourly might differ. We'll set these as variables here for experimentation.\n"
   ]
  },
  {
   "cell_type": "code",
   "execution_count": null,
   "metadata": {
    "dotnet_interactive": {
     "language": "csharp"
    },
    "polyglot_notebook": {
     "kernelName": "csharp"
    },
    "vscode": {
     "languageId": "polyglot-notebook"
    }
   },
   "outputs": [],
   "source": [
    "int AdxWindowPeriod = 140; // Example from previous optimization\n",
    "int AdxLowerPercentile = 6; // from daily optimization results, but adjustable\n",
    "int AdxUpperPercentile = 86;\n",
    "\n",
    "// Create a rolling window for ADX\n",
    "var adxWindow = new List<decimal>();\n"
   ]
  },
  {
   "cell_type": "markdown",
   "metadata": {},
   "source": [
    "#### Computing ADX for Hourly Data\n",
    "\n",
    "We compute ADX with the chosen period, then fill a rolling window and compute dynamic percentiles.\n"
   ]
  },
  {
   "cell_type": "code",
   "execution_count": null,
   "metadata": {
    "dotnet_interactive": {
     "language": "csharp"
    },
    "polyglot_notebook": {
     "kernelName": "csharp"
    },
    "vscode": {
     "languageId": "polyglot-notebook"
    }
   },
   "outputs": [],
   "source": [
    "int AdxPeriod = 25; // Example same as daily optimal\n",
    "var adx = qb.ADX(btcUsdt, AdxPeriod, Resolution.Hour);\n",
    "\n",
    "foreach (var bar in btcHistoryHour)\n",
    "{\n",
    "    adx.Update(bar);\n",
    "    if (adx.IsReady)\n",
    "    {\n",
    "        adxWindow.Add(adx.Current.Value);\n",
    "    }\n",
    "}\n",
    "\n",
    "Console.WriteLine($\"ADX Window Count: {adxWindow.Count}\");\n"
   ]
  },
  {
   "cell_type": "markdown",
   "metadata": {},
   "source": [
    "#### Computing ADX Percentiles\n",
    "\n",
    "We use a method similar to the daily approach to compute median and percentiles dynamically.\n"
   ]
  },
  {
   "cell_type": "code",
   "execution_count": null,
   "metadata": {
    "dotnet_interactive": {
     "language": "csharp"
    },
    "polyglot_notebook": {
     "kernelName": "csharp"
    },
    "vscode": {
     "languageId": "polyglot-notebook"
    }
   },
   "outputs": [],
   "source": [
    "(decimal median, decimal lowerPercentil, decimal upperPercentil) ComputeAdxPercentiles(List<decimal> values, int lowerPct, int upperPct)\n",
    "{\n",
    "    var sorted = values.OrderBy(x => x).ToList();\n",
    "    int count = sorted.Count;\n",
    "    if (count == 0) return (0,0,0);\n",
    "\n",
    "    decimal median = sorted[count/2];\n",
    "\n",
    "    lowerPct = Math.Min(Math.Max(lowerPct,0),100);\n",
    "    upperPct = Math.Min(Math.Max(upperPct,0),100);\n",
    "\n",
    "    int lowerIndex = Math.Max(0, Math.Min(count-1, count * lowerPct / 100));\n",
    "    int upperIndex = Math.Max(0, Math.Min(count-1, count * upperPct / 100));\n",
    "\n",
    "    decimal lowerPercentil = sorted[lowerIndex];\n",
    "    decimal upperPercentil = sorted[upperIndex];\n",
    "\n",
    "    return (median, lowerPercentil, upperPercentil);\n",
    "}\n",
    "\n",
    "var (medianAdx, adxLowVal, adxHighVal) = ComputeAdxPercentiles(adxWindow, AdxLowerPercentile, AdxUpperPercentile);\n",
    "Console.WriteLine($\"Computed ADX percentiles: Lower={adxLowVal:F2}, Upper={adxHighVal:F2}, Median={medianAdx:F2}\");\n"
   ]
  },
  {
   "cell_type": "markdown",
   "metadata": {},
   "source": [
    "#### Integrating MACD (Hourly)\n",
    "\n",
    "We choose MACD parameters and compute MACD histogram for hourly data as well.\n"
   ]
  },
  {
   "cell_type": "code",
   "execution_count": null,
   "metadata": {
    "dotnet_interactive": {
     "language": "csharp"
    },
    "polyglot_notebook": {
     "kernelName": "csharp"
    },
    "vscode": {
     "languageId": "polyglot-notebook"
    }
   },
   "outputs": [],
   "source": [
    "int MacdFast = 12;\n",
    "int MacdSlow = 20;\n",
    "int MacdSignal = 16;\n",
    "\n",
    "var macd = qb.MACD(btcUsdt, MacdFast, MacdSlow, MacdSignal, MovingAverageType.Exponential, Resolution.Hour, Field.Close);\n",
    "\n",
    "var macdHistValues = new List<(DateTime Time, decimal Histogram)>();\n",
    "\n",
    "foreach (var bar in btcHistoryHour)\n",
    "{\n",
    "    macd.Update(bar.EndTime, bar.Close);\n",
    "    if (macd.IsReady)\n",
    "    {\n",
    "        var hist = macd.Current.Value - macd.Signal.Current.Value;\n",
    "        macdHistValues.Add((bar.EndTime, hist));\n",
    "    }\n",
    "}\n",
    "\n",
    "Console.WriteLine($\"MACD ready points: {macdHistValues.Count}\");\n"
   ]
  },
  {
   "cell_type": "markdown",
   "metadata": {},
   "source": [
    "#### Applying Dynamic Conditions\n",
    "\n",
    "If we were to simulate signals (not backtesting fully here), we would check if `adxValue >= adxHighVal && isMacdBullish` for buy signals, and `adxValue <= adxLowVal && isMacdBearish` for sell signals.\n"
   ]
  },
  {
   "cell_type": "code",
   "execution_count": null,
   "metadata": {
    "dotnet_interactive": {
     "language": "csharp"
    },
    "polyglot_notebook": {
     "kernelName": "csharp"
    },
    "vscode": {
     "languageId": "polyglot-notebook"
    }
   },
   "outputs": [],
   "source": [
    "// Example pseudo-signal generation\n",
    "int buySignals = 0;\n",
    "int sellSignals = 0;\n",
    "\n",
    "var priceByDateHour = btcHistoryHour.ToDictionary(x => x.EndTime, x => x.Close);\n",
    "\n",
    "// We'll loop through macdHistValues and find corresponding ADX and check conditions\n",
    "foreach (var (time, hist) in macdHistValues)\n",
    "{\n",
    "    if(!priceByDateHour.ContainsKey(time)) continue;\n",
    "\n",
    "    var adxVal = adxWindow.Count > 0 ? adxWindow[Math.Min(adxWindow.Count -1, adxWindow.Count -1)] : 0m; \n",
    "    // Above line is just a placeholder. In practice, you'd keep track of ADX values aligned with time:\n",
    "    // For that, store ADX time-value pairs similarly to daily approach.\n",
    "\n",
    "    var isBullish = hist > 0;\n",
    "    var isBearish = hist < 0;\n",
    "\n",
    "    // Suppose we had a dictionary for hourly adx values: \n",
    "    // var adxVal = adxHourlyDict.ContainsKey(time) ? adxHourlyDict[time] : 0;\n",
    "\n",
    "    // Check conditions:\n",
    "    if (adxVal >= adxHighVal && isBullish) buySignals++;\n",
    "    else if (adxVal <= adxLowVal && isBearish) sellSignals++;\n",
    "}\n",
    "\n",
    "Console.WriteLine($\"Buy Signals: {buySignals}, Sell Signals: {sellSignals}\");\n"
   ]
  }
 ],
 "metadata": {
  "kernelspec": {
   "display_name": ".NET (C#)",
   "language": "C#",
   "name": ".net-csharp"
  },
  "language_info": {
   "file_extension": ".cs",
   "mimetype": "text/x-csharp",
   "name": "C#",
   "pygments_lexer": "csharp",
   "version": "10.0"
  },
  "polyglot_notebook": {
   "kernelInfo": {
    "defaultKernelName": "csharp",
    "items": [
     {
      "aliases": [],
      "name": "csharp"
     }
    ]
   }
  }
 },
 "nbformat": 4,
 "nbformat_minor": 4
}
